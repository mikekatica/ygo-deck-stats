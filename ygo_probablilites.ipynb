{
 "cells": [
  {
   "cell_type": "code",
   "execution_count": 1,
   "metadata": {},
   "outputs": [],
   "source": [
    "from models import deck\n",
    "from scipy.stats import multivariate_hypergeom, hypergeom\n"
   ]
  },
  {
   "cell_type": "markdown",
   "metadata": {},
   "source": [
    "Specify the filesystem path in `filepath` variable, then load the deck into memory"
   ]
  },
  {
   "cell_type": "code",
   "execution_count": 2,
   "metadata": {},
   "outputs": [
    {
     "name": "stdout",
     "output_type": "stream",
     "text": [
      "./deck_example.txt\n"
     ]
    }
   ],
   "source": [
    "filepath = \"./deck_example.txt\"\n",
    "mydeck = deck.Deck.from_file(filepath)"
   ]
  },
  {
   "cell_type": "markdown",
   "metadata": {},
   "source": [
    "Validate the total cards of each type:"
   ]
  },
  {
   "cell_type": "code",
   "execution_count": 3,
   "metadata": {},
   "outputs": [
    {
     "name": "stdout",
     "output_type": "stream",
     "text": [
      "Your deck has 6 bricks, 14 non-engine, and 20 engine out of 40 cards\n"
     ]
    }
   ],
   "source": [
    "def total_count(cards):\n",
    "    return sum([\n",
    "        i.count\n",
    "        for i in cards\n",
    "    ])\n",
    "\n",
    "bricks = mydeck.cards_by_deck_type(deck.DeckCardType.BRICK)\n",
    "non_engine = mydeck.cards_by_deck_type(deck.DeckCardType.NONENGINE)\n",
    "engine = mydeck.cards_by_deck_type(deck.DeckCardType.ENGINE)\n",
    "\n",
    "print(f\"Your deck has {total_count(bricks)} bricks, {total_count(non_engine)} non-engine, and {total_count(engine)} engine out of {mydeck.size} cards\")"
   ]
  },
  {
   "cell_type": "markdown",
   "metadata": {},
   "source": [
    "Now find out the chances you see any particular combo:"
   ]
  },
  {
   "cell_type": "code",
   "execution_count": 4,
   "metadata": {},
   "outputs": [
    {
     "name": "stdout",
     "output_type": "stream",
     "text": [
      "madolche_anjelly: 29.006968641114945% chance to see\n",
      "madolche_petingcessour: 29.006968641114945% chance to see\n",
      "madolche_anjelly + madolche_petingcessour: 6.9911087211143945% chance to see\n",
      "madolche_hootcake + vernusylph_of_the_misting_seedlings: 5.258269807333905% chance to see\n",
      "madolche_hootcake + vernusylph_of_the_flourishing_hills: 3.966764942374694% chance to see\n",
      "madolche_petingcessour + vernusylph_of_the_misting_seedlings: 6.9911087211143945% chance to see\n",
      "madolche_petingcessour + emergency_teleport: 6.9911087211143945% chance to see\n"
     ]
    }
   ],
   "source": [
    "for combo in mydeck.combos:\n",
    "    m_arr = [ card.count for card in combo.cards ]\n",
    "    m_arr.append(mydeck.size - len(combo.cards))\n",
    "    x_arr = [ 1 for card in combo.cards]\n",
    "    x_arr.append(5 - len(combo.cards))\n",
    "    rv = multivariate_hypergeom(m=m_arr, n=5)\n",
    "    print(f\"{combo}: {rv.pmf(x=x_arr) * 100}% chance to see\")"
   ]
  },
  {
   "cell_type": "markdown",
   "metadata": {},
   "source": [
    "Chance to see any 1 card combo:"
   ]
  },
  {
   "cell_type": "code",
   "execution_count": 24,
   "metadata": {},
   "outputs": [
    {
     "name": "stdout",
     "output_type": "stream",
     "text": [
      "All 1 card combos: [madolche_anjelly, madolche_petingcessour]\n",
      "You'll see a 1 card combo in 42.287631761315986% of hands\n"
     ]
    }
   ],
   "source": [
    "one_card = list(filter(lambda x: len(x.cards) == 1, mydeck.combos))\n",
    "one_card_cards = [ card for combo in one_card for card in combo.cards]\n",
    "total_one_card = sum([\n",
    "    i.count\n",
    "    for combo in one_card for i in combo.cards\n",
    "])\n",
    "rv = multivariate_hypergeom(m=[total_one_card, mydeck.size - total_one_card], n=5)\n",
    "print(f\"All 1 card combos: {one_card_cards}\")\n",
    "print(f\"You'll see a 1 card combo in {rv.pmf(x=[1,4])*100}% of hands\")\n"
   ]
  },
  {
   "cell_type": "markdown",
   "metadata": {},
   "source": [
    "Chance to see any 2 card combo:\n",
    "1. Find all discrete cards in all the combos\n",
    "2. Calculate the probability that the hand has 0 of the cards in the combo\n",
    "3. For each combo, calculate that only one of the cards is present in the hand"
   ]
  },
  {
   "cell_type": "code",
   "execution_count": 25,
   "metadata": {},
   "outputs": [
    {
     "name": "stdout",
     "output_type": "stream",
     "text": [
      "--------------\n",
      "Combo: madolche_anjelly + madolche_petingcessour\n",
      "Chance to miss: 60.222672064777264%\n",
      "--------------\n",
      "Combo: madolche_hootcake + vernusylph_of_the_misting_seedlings\n",
      "Chance to miss: 45.88394062078272%\n",
      "--------------\n",
      "Combo: madolche_hootcake + vernusylph_of_the_flourishing_hills\n",
      "Chance to miss: 44.871794871794805%\n",
      "--------------\n",
      "Combo: madolche_petingcessour + vernusylph_of_the_misting_seedlings\n",
      "Chance to miss: 60.222672064777264%\n",
      "--------------\n",
      "Combo: madolche_petingcessour + emergency_teleport\n",
      "Chance to miss: 60.222672064777264%\n"
     ]
    }
   ],
   "source": [
    "two_card = list(filter(lambda x: len(x.cards) == 2, mydeck.combos))\n",
    "cards_in_two_card = set(\n",
    "    [\n",
    "        card for combo in two_card for card in combo.cards\n",
    "    ]\n",
    ")\n",
    "# Find hands where none of the cards from the combo are in it at all\n",
    "total_no_card = sum([\n",
    "    i.count for i in cards_in_two_card\n",
    "])\n",
    "no_cards = hypergeom.cdf(0, mydeck.size, total_no_card, 5)\n",
    "# For each combo, calculate the odds of seeing one and not the other\n",
    "for combo in two_card:\n",
    "    print(\"--------------\")\n",
    "    print(f\"Combo: {combo}\")\n",
    "    # Chance to see one but not both cards\n",
    "    # Take 1 of either card, and then 4 of not the other\n",
    "    total_card = combo.cards[0].count\n",
    "    total_other_card = combo.cards[1].count\n",
    "    rv_1 = multivariate_hypergeom(m=[total_card, mydeck.size - total_other_card], n=5)\n",
    "    p_1 = rv_1.pmf(x=[1,4])\n",
    "    rv_2 = multivariate_hypergeom(m=[total_other_card, mydeck.size - total_card], n=5)\n",
    "    p_2 = rv_1.pmf(x=[1,4])\n",
    "    chance_to_miss = p_1 + p_2\n",
    "    print(f\"Chance to miss: {chance_to_miss*100}%\")\n"
   ]
  }
 ],
 "metadata": {
  "kernelspec": {
   "display_name": "notebook",
   "language": "python",
   "name": "python3"
  },
  "language_info": {
   "codemirror_mode": {
    "name": "ipython",
    "version": 3
   },
   "file_extension": ".py",
   "mimetype": "text/x-python",
   "name": "python",
   "nbconvert_exporter": "python",
   "pygments_lexer": "ipython3",
   "version": "3.12.4"
  }
 },
 "nbformat": 4,
 "nbformat_minor": 2
}
