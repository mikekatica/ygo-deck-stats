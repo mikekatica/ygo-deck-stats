{
 "cells": [
  {
   "cell_type": "code",
   "execution_count": 3,
   "metadata": {},
   "outputs": [],
   "source": [
    "import random\n",
    "from models import deck\n",
    "from scipy.stats import multivariate_hypergeom, hypergeom, nhypergeom\n",
    "from matplotlib import pyplot\n"
   ]
  },
  {
   "cell_type": "markdown",
   "metadata": {},
   "source": [
    "Specify the filesystem path in `filepath` variable, then load the deck into memory"
   ]
  },
  {
   "cell_type": "code",
   "execution_count": 4,
   "metadata": {},
   "outputs": [
    {
     "name": "stdout",
     "output_type": "stream",
     "text": [
      "./deck/madolche.txt\n"
     ]
    }
   ],
   "source": [
    "filepath = \"./deck/madolche.txt\"\n",
    "mydeck = deck.Deck.from_file(filepath)"
   ]
  },
  {
   "cell_type": "markdown",
   "metadata": {},
   "source": [
    "Validate the total cards of each type:"
   ]
  },
  {
   "cell_type": "code",
   "execution_count": 5,
   "metadata": {},
   "outputs": [
    {
     "name": "stdout",
     "output_type": "stream",
     "text": [
      "Your deck has 7 bricks, 18 non-engine, and 17 engine out of 42 cards\n"
     ]
    }
   ],
   "source": [
    "def total_count(cards):\n",
    "    return sum([\n",
    "        i.count\n",
    "        for i in cards\n",
    "    ])\n",
    "\n",
    "bricks = mydeck.cards_by_deck_type(deck.DeckCardType.BRICK)\n",
    "non_engine = mydeck.cards_by_deck_type(deck.DeckCardType.NONENGINE)\n",
    "engine = mydeck.cards_by_deck_type(deck.DeckCardType.ENGINE)\n",
    "\n",
    "print(f\"Your deck has {total_count(bricks)} bricks, {total_count(non_engine)} non-engine, and {total_count(engine)} engine out of {mydeck.size} cards\")"
   ]
  },
  {
   "cell_type": "markdown",
   "metadata": {},
   "source": [
    "Chance to see any 1 card combo:"
   ]
  },
  {
   "cell_type": "code",
   "execution_count": 6,
   "metadata": {},
   "outputs": [
    {
     "name": "stdout",
     "output_type": "stream",
     "text": [
      "All 1 card combos: {madolche_petingcessour, emergency_teleport, noh_punk_ze_amin, madolche_anjelly}\n",
      "You'll see a 1 card combo in 76.32730983180281% of hands\n"
     ]
    }
   ],
   "source": [
    "one_card = list(filter(lambda x: len(x.cards) == 1, mydeck.combos))\n",
    "one_card_cards = set([ card for combo in one_card for card in combo.cards])\n",
    "total_one_card = sum([\n",
    "    i.count\n",
    "    for combo in one_card for i in combo.cards\n",
    "])\n",
    "one_card_pv = nhypergeom.pmf(0, mydeck.size, total_one_card, 5)\n",
    "print(f\"All 1 card combos: {one_card_cards}\")\n",
    "print(f\"You'll see a 1 card combo in {(1-one_card_pv)*100}% of hands\")"
   ]
  },
  {
   "cell_type": "markdown",
   "metadata": {},
   "source": [
    "Chance to see any 2 card combo:\n",
    "1. Find all discrete cards in all the combos\n",
    "2. Calculate the probability that the hand has 0 of the cards in the combo\n",
    "3. For each combo, calculate that only one of the cards is present in the hand"
   ]
  },
  {
   "cell_type": "code",
   "execution_count": 7,
   "metadata": {},
   "outputs": [
    {
     "name": "stdout",
     "output_type": "stream",
     "text": [
      "You'll see vernusylph_of_the_misting_seedlings + ghost_ogre_and_snow_rabbit in 7.198578058655314% of hands\n",
      "You'll see vernusylph_of_the_misting_seedlings + noh_punk_deer_note in 11.987402841061623% of hands\n",
      "You'll see madolche_messangelato + emergency_teleport in 7.198578058655314% of hands\n",
      "You'll see madolche_messangelato + emergency_teleport in 7.198578058655314% of hands\n",
      "You'll see vernusylph_of_the_misting_seedlings + noh_punk_foxy_tune in 11.987402841061623% of hands\n",
      "You'll see madolche_hootcake + noh_punk_foxy_tune in 12.97909407665523% of hands\n",
      "You'll see madolche_anjelly + madolche_petingcessour in 9.09943714821777% of hands\n",
      "You'll see madolche_petingcessour + vernusylph_of_the_misting_seedlings in 9.09943714821777% of hands\n",
      "You'll see madolche_petingcessour + emergency_teleport in 9.09943714821777% of hands\n",
      "You'll see vernusylph_of_the_misting_seedlings + ash_blossom_and_joyous_spring in 9.09943714821777% of hands\n",
      "You'll see vernusylph_of_the_misting_seedlings + emergency_teleport in 9.09943714821777% of hands\n",
      "You'll see madolche_hootcake + emergency_teleport in 7.198578058655314% of hands\n",
      "You'll see madolche_anjelly + vernusylph_of_the_misting_seedlings in 9.09943714821777% of hands\n",
      "You'll see vernusylph_of_the_misting_seedlings + herald_of_orange_light in 9.09943714821777% of hands\n",
      "You'll see madolche_hootcake + vernusylph_of_the_misting_seedlings in 7.198578058655314% of hands\n",
      "You'll see vernusylph_of_the_misting_seedlings + noh_punk_ze_amin in 11.987402841061623% of hands\n",
      "You'll see vernusylph_of_the_misting_seedlings + effect_veiler in 9.09943714821777% of hands\n",
      "You'll see vernusylph_of_the_misting_seedlings + nibiru_the_primal_being in 9.09943714821777% of hands\n"
     ]
    }
   ],
   "source": [
    "two_card = list(filter(lambda x: len(x.cards) == 2, mydeck.combos))\n",
    "cards_in_two_card = set(\n",
    "    [\n",
    "        card for combo in two_card for card in combo.cards\n",
    "    ]\n",
    ")\n",
    "# Find hands where none of the cards from the combo are in it at all\n",
    "total_no_card = sum([\n",
    "    i.count for i in cards_in_two_card\n",
    "])\n",
    "no_cards = hypergeom.cdf(0, mydeck.size, total_no_card, 5)\n",
    "# For each card in 2 card combos, calculate exactly once the probablility of seeing one \n",
    "# card from the combo and not the other.\n",
    "combos_calculated = {}\n",
    "for card in cards_in_two_card:\n",
    "    # Find all combos with this card\n",
    "    combos = list(filter(\n",
    "        lambda x: card in x.cards,\n",
    "        two_card\n",
    "    ))\n",
    "    for combo in combos:\n",
    "        if combo in combos_calculated.keys():\n",
    "            continue\n",
    "        total = sum([\n",
    "            i.count for i in combo.cards\n",
    "        ])\n",
    "        total_card = combo.cards[0].count\n",
    "        total_other_card = combo.cards[1].count\n",
    "        rv = multivariate_hypergeom(m=[total_card, total_other_card, mydeck.size - total_other_card - total_card], n=5)\n",
    "        p_1 = sum([\n",
    "            rv.pmf([x,0,5-x]) for x in range(1,total_card)\n",
    "        ])\n",
    "        p_2 = sum([\n",
    "            rv.pmf([0,x,5-x]) for x in range(1,total_other_card)\n",
    "        ])\n",
    "        p_0 = rv.pmf([0,0,5])\n",
    "        combos_calculated[combo] = 1 - (p_1 + p_2 + p_0)\n",
    "for combo, prob in combos_calculated.items():\n",
    "    print(f\"You'll see {combo} in {prob*100}% of hands\")"
   ]
  },
  {
   "cell_type": "markdown",
   "metadata": {},
   "source": [
    "Chance to brick with half of a 2 card combo, and no one card combos:"
   ]
  },
  {
   "cell_type": "code",
   "execution_count": 8,
   "metadata": {},
   "outputs": [
    {
     "name": "stdout",
     "output_type": "stream",
     "text": [
      "Chance to see 0 combo cards: 0.014811889009578357%\n",
      "Chance to see hands with noh_punk_foxy_tune, but nothing needed to play: 1.7574423864539361%\n",
      "Chance to see hands with madolche_hootcake, but nothing needed to play: 3.8205269270737743%\n",
      "Chance to see hands with vernusylph_of_the_misting_seedlings, but nothing needed to play: 0.18103419900595746%\n"
     ]
    }
   ],
   "source": [
    "# Find all cards in combos\n",
    "cumulative_probability = 1\n",
    "cards_in_combos = set([\n",
    "    card for combo in mydeck.combos for card in combo.cards\n",
    "])\n",
    "total = sum([\n",
    "    i.count for i in cards_in_combos\n",
    "])\n",
    "chance_to_see_zero = hypergeom.pmf(0, mydeck.size, total, 5)\n",
    "cumulative_probability = cumulative_probability - chance_to_see_zero\n",
    "print(f\"Chance to see 0 combo cards: {chance_to_see_zero*100}%\")\n",
    "# Find 2 card combos that do not include 1 card combos\n",
    "unique_two_card = list(filter(\n",
    "    lambda x: len(one_card_cards.intersection(set(x.cards))) == 0,\n",
    "    mydeck.combos\n",
    "))\n",
    "# Get all unique cards in 2 card combos, calculate the odds of see it, but not the counterpart\n",
    "cards_in_unique_two_card = set([\n",
    "    card for combo in unique_two_card for card in combo.cards\n",
    "])\n",
    "for card in cards_in_unique_two_card:\n",
    "    # Find combos for card\n",
    "    combos = list(filter(\n",
    "        lambda x: card in x.cards,\n",
    "        unique_two_card\n",
    "    ))\n",
    "    if len(combos) == 1:\n",
    "        continue\n",
    "    other_cards = set([\n",
    "        card for combo in combos for card in combo.cards\n",
    "    ]).difference([card])\n",
    "    total_other_card = sum([\n",
    "        i.count for i in other_cards.union(one_card_cards)\n",
    "    ])\n",
    "    rv = multivariate_hypergeom(\n",
    "        m=[card.count, total_other_card, mydeck.size - total_other_card - card.count],\n",
    "        n=5\n",
    "        )\n",
    "    p = sum([\n",
    "        rv.pmf([x,0,5-x]) for x in range(1,card.count+1)\n",
    "    ])\n",
    "    print(f\"Chance to see hands with {card.name}, but nothing needed to play: {p*100}%\")"
   ]
  },
  {
   "cell_type": "markdown",
   "metadata": {},
   "source": [
    "Run a simulation. Input the number of hands to draw in `N`, then see how many have a one-card or two card combo: "
   ]
  },
  {
   "cell_type": "code",
   "execution_count": 9,
   "metadata": {},
   "outputs": [
    {
     "name": "stdout",
     "output_type": "stream",
     "text": [
      "Combo madolche_anjelly in 36 out of 120\n",
      "Combo madolche_petingcessour in 40 out of 120\n",
      "Combo noh_punk_ze_amin in 16 out of 120\n",
      "Combo emergency_teleport in 42 out of 120\n",
      "Combo madolche_anjelly + madolche_petingcessour in 10 out of 120\n",
      "Combo madolche_hootcake + vernusylph_of_the_misting_seedlings in 16 out of 120\n",
      "Combo vernusylph_of_the_misting_seedlings + noh_punk_ze_amin in 4 out of 120\n",
      "Combo vernusylph_of_the_misting_seedlings + noh_punk_deer_note in 8 out of 120\n",
      "Combo vernusylph_of_the_misting_seedlings + noh_punk_foxy_tune in 7 out of 120\n",
      "Combo vernusylph_of_the_misting_seedlings + ash_blossom_and_joyous_spring in 14 out of 120\n",
      "Combo vernusylph_of_the_misting_seedlings + ghost_ogre_and_snow_rabbit in 6 out of 120\n",
      "Combo vernusylph_of_the_misting_seedlings + effect_veiler in 12 out of 120\n",
      "Combo vernusylph_of_the_misting_seedlings + herald_of_orange_light in 16 out of 120\n",
      "Combo vernusylph_of_the_misting_seedlings + nibiru_the_primal_being in 15 out of 120\n",
      "Combo vernusylph_of_the_misting_seedlings + emergency_teleport in 17 out of 120\n",
      "Combo madolche_hootcake + emergency_teleport in 6 out of 120\n",
      "Combo madolche_messangelato + emergency_teleport in 7 out of 120\n",
      "Combo madolche_hootcake + noh_punk_foxy_tune in 6 out of 120\n",
      "Combo madolche_messangelato + emergency_teleport in 7 out of 120\n",
      "Combo madolche_petingcessour + vernusylph_of_the_misting_seedlings in 17 out of 120\n",
      "Combo madolche_anjelly + vernusylph_of_the_misting_seedlings in 7 out of 120\n",
      "Combo madolche_petingcessour + emergency_teleport in 11 out of 120\n",
      "Combo madolche_hootcake + madolche_anjelly + emergency_teleport in 2 out of 120\n",
      "Combo madolche_hootcake + madolche_messangelato + emergency_teleport in 1 out of 120\n",
      "Combo madolche_anjelly + madolche_messangelato + emergency_teleport in 2 out of 120\n"
     ]
    }
   ],
   "source": [
    "N = 100\n",
    "hands = [\n",
    "    tuple(random.sample(mydeck.get_simulated_cards(), 5))\n",
    "    for _ in range(0,N)\n",
    "]\n",
    "hands_with_combo = set()\n",
    "for combo in mydeck.combos:\n",
    "    in_hands = []\n",
    "    cards: set = set(combo.cards)\n",
    "    for hand in hands:\n",
    "        if cards.issubset(hand):\n",
    "            in_hands.append(hand)\n",
    "            hands_with_combo.add(hand)\n",
    "    print(f\"Combo {combo} in {len(in_hands)} out of {len(hands)}\")\n",
    "bricks = set(hands).difference(hands_with_combo)"
   ]
  },
  {
   "cell_type": "code",
   "execution_count": 10,
   "metadata": {},
   "outputs": [
    {
     "name": "stdout",
     "output_type": "stream",
     "text": [
      "12 hands are bricks:\n"
     ]
    }
   ],
   "source": [
    "print(f\"{len(bricks)} hands are bricks:\")"
   ]
  },
  {
   "cell_type": "code",
   "execution_count": 11,
   "metadata": {},
   "outputs": [
    {
     "name": "stdout",
     "output_type": "stream",
     "text": [
      "(infinte_impermenance, effect_veiler, herald_of_orange_light, nibiru_the_primal_being, effect_veiler)\n",
      "(ash_blossom_and_joyous_spring, ghost_ogre_and_snow_rabbit, ash_blossom_and_joyous_spring, madolche_messangelato, nibiru_the_primal_being)\n",
      "(herald_of_orange_light, madolche_hootcake, nibiru_the_primal_being, effect_veiler, madolche_messangelato)\n",
      "(effect_veiler, madolche_puddingcess, madolche_messangelato, madolche_salon, psy_framegear_gamma)\n",
      "(madolche_messangelato, infinte_impermenance, nibiru_the_primal_being, effect_veiler, ash_blossom_and_joyous_spring)\n",
      "(ghost_ogre_and_snow_rabbit, infinte_impermenance, madolche_puddingcess, nibiru_the_primal_being, ash_blossom_and_joyous_spring)\n",
      "(herald_of_orange_light, madolche_messangelato, madolche_hootcake, noh_punk_deer_note, psy_framegear_gamma)\n",
      "(effect_veiler, ash_blossom_and_joyous_spring, herald_of_orange_light, ash_blossom_and_joyous_spring, madolche_messangelato)\n",
      "(effect_veiler, ghost_ogre_and_snow_rabbit, effect_veiler, noh_punk_deer_note, ash_blossom_and_joyous_spring)\n",
      "(infinte_impermenance, herald_of_orange_light, noh_punk_deer_note, ghost_ogre_and_snow_rabbit, effect_veiler)\n",
      "(ghost_ogre_and_snow_rabbit, effect_veiler, herald_of_orange_light, nibiru_the_primal_being, effect_veiler)\n",
      "(madolche_salon, ash_blossom_and_joyous_spring, ghost_ogre_and_snow_rabbit, effect_veiler, nibiru_the_primal_being)\n"
     ]
    }
   ],
   "source": [
    "for brick in bricks:\n",
    "    print(brick)"
   ]
  },
  {
   "cell_type": "markdown",
   "metadata": {},
   "source": [
    "Hands that had any number of distinct non-engine:"
   ]
  },
  {
   "cell_type": "code",
   "execution_count": 12,
   "metadata": {},
   "outputs": [
    {
     "data": {
      "text/plain": [
       "[<matplotlib.lines.Line2D at 0x1af9723f800>]"
      ]
     },
     "execution_count": 12,
     "metadata": {},
     "output_type": "execute_result"
    },
    {
     "data": {
      "image/png": "[encoded data removed]",
      "text/plain": [
       "<Figure size 640x480 with 1 Axes>"
      ]
     },
     "metadata": {},
     "output_type": "display_data"
    }
   ],
   "source": [
    "x = [0,1,2,3,4,5]\n",
    "y = [0,0,0,0,0,0]\n",
    "for hand in hands:\n",
    "    unique_cards = set(hand)\n",
    "    ne = list(filter(lambda x: x.deck_type == deck.DeckCardType.NONENGINE, unique_cards))\n",
    "    idx = len(ne)\n",
    "    y[idx] += 1\n",
    "pyplot.plot(x,y)"
   ]
  }
 ],
 "metadata": {
  "kernelspec": {
   "display_name": "notebook",
   "language": "python",
   "name": "python3"
  },
  "language_info": {
   "codemirror_mode": {
    "name": "ipython",
    "version": 3
   },
   "file_extension": ".py",
   "mimetype": "text/x-python",
   "name": "python",
   "nbconvert_exporter": "python",
   "pygments_lexer": "ipython3",
   "version": "3.12.4"
  }
 },
 "nbformat": 4,
 "nbformat_minor": 2
}
