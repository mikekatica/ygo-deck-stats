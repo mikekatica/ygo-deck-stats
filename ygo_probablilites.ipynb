{
 "cells": [
  {
   "cell_type": "code",
   "execution_count": 108,
   "metadata": {},
   "outputs": [],
   "source": [
    "import random\n",
    "from models import deck\n",
    "from scipy.stats import multivariate_hypergeom, hypergeom, nhypergeom\n"
   ]
  },
  {
   "cell_type": "markdown",
   "metadata": {},
   "source": [
    "Specify the filesystem path in `filepath` variable, then load the deck into memory"
   ]
  },
  {
   "cell_type": "code",
   "execution_count": 109,
   "metadata": {},
   "outputs": [
    {
     "name": "stdout",
     "output_type": "stream",
     "text": [
      "./deck_example.txt\n"
     ]
    }
   ],
   "source": [
    "filepath = \"./deck_example.txt\"\n",
    "mydeck = deck.Deck.from_file(filepath)"
   ]
  },
  {
   "cell_type": "markdown",
   "metadata": {},
   "source": [
    "Validate the total cards of each type:"
   ]
  },
  {
   "cell_type": "code",
   "execution_count": 110,
   "metadata": {},
   "outputs": [
    {
     "name": "stdout",
     "output_type": "stream",
     "text": [
      "Your deck has 6 bricks, 14 non-engine, and 20 engine out of 40 cards\n"
     ]
    }
   ],
   "source": [
    "def total_count(cards):\n",
    "    return sum([\n",
    "        i.count\n",
    "        for i in cards\n",
    "    ])\n",
    "\n",
    "bricks = mydeck.cards_by_deck_type(deck.DeckCardType.BRICK)\n",
    "non_engine = mydeck.cards_by_deck_type(deck.DeckCardType.NONENGINE)\n",
    "engine = mydeck.cards_by_deck_type(deck.DeckCardType.ENGINE)\n",
    "\n",
    "print(f\"Your deck has {total_count(bricks)} bricks, {total_count(non_engine)} non-engine, and {total_count(engine)} engine out of {mydeck.size} cards\")"
   ]
  },
  {
   "cell_type": "markdown",
   "metadata": {},
   "source": [
    "Chance to see any 1 card combo:"
   ]
  },
  {
   "cell_type": "code",
   "execution_count": 111,
   "metadata": {},
   "outputs": [
    {
     "name": "stdout",
     "output_type": "stream",
     "text": [
      "All 1 card combos: {madolche_anjelly, madolche_petingcessour, noh_punk_ze_amin, emergency_teleport}\n",
      "You'll see a 1 card combo in 78.34281650071124% of hands\n"
     ]
    }
   ],
   "source": [
    "one_card = list(filter(lambda x: len(x.cards) == 1, mydeck.combos))\n",
    "one_card_cards = set([ card for combo in one_card for card in combo.cards])\n",
    "total_one_card = sum([\n",
    "    i.count\n",
    "    for combo in one_card for i in combo.cards\n",
    "])\n",
    "one_card_pv = nhypergeom.pmf(0, mydeck.size, total_one_card, 5)\n",
    "print(f\"All 1 card combos: {one_card_cards}\")\n",
    "print(f\"You'll see a 1 card combo in {(1-one_card_pv)*100}% of hands\")\n"
   ]
  },
  {
   "cell_type": "markdown",
   "metadata": {},
   "source": [
    "Chance to see any 2 card combo:\n",
    "1. Find all discrete cards in all the combos\n",
    "2. Calculate the probability that the hand has 0 of the cards in the combo\n",
    "3. For each combo, calculate that only one of the cards is present in the hand"
   ]
  },
  {
   "cell_type": "code",
   "execution_count": 112,
   "metadata": {},
   "outputs": [
    {
     "name": "stdout",
     "output_type": "stream",
     "text": [
      "You'll see madolche_anjelly + madolche_petingcessour in 9.968267863004677% of hands\n",
      "You'll see vernusylph_of_the_misting_seedlings + vernusylph_of_the_flourishing_hills in 7.893673025251902% of hands\n",
      "You'll see madolche_hootcake + vernusylph_of_the_flourishing_hills in 6.899004267425224% of hands\n",
      "You'll see noh_punk_ze_amin + vernusylph_of_the_flourishing_hills in 13.68083670715251% of hands\n",
      "You'll see vernusylph_of_the_misting_seedlings + emergency_teleport in 9.968267863004677% of hands\n",
      "You'll see madolche_hootcake + emergency_teleport in 7.893673025251902% of hands\n",
      "You'll see madolche_messangelato + emergency_teleport in 7.893673025251902% of hands\n",
      "You'll see madolche_petingcessour + emergency_teleport in 9.968267863004677% of hands\n",
      "You'll see vernusylph_of_the_misting_seedlings + noh_punk_deer_note in 12.595743516796087% of hands\n",
      "You'll see vernusylph_of_the_misting_seedlings + noh_punk_ze_amin in 12.595743516796087% of hands\n",
      "You'll see vernusylph_of_the_misting_seedlings + herald_of_orange_light in 9.968267863004677% of hands\n",
      "You'll see madolche_petingcessour + vernusylph_of_the_misting_seedlings in 9.968267863004677% of hands\n",
      "You'll see madolche_hootcake + vernusylph_of_the_misting_seedlings in 7.893673025251902% of hands\n",
      "You'll see vernusylph_of_the_misting_seedlings + noh_punk_foxy_tune in 12.595743516796087% of hands\n",
      "You'll see vernusylph_of_the_misting_seedlings + ash_blossom_and_joyous_spring in 9.968267863004677% of hands\n",
      "You'll see vernusylph_of_the_misting_seedlings + ghost_ogre_and_snow_rabbit in 7.893673025251902% of hands\n",
      "You'll see vernusylph_of_the_misting_seedlings + effect_veiler in 9.968267863004677% of hands\n",
      "You'll see vernusylph_of_the_misting_seedlings + vernusylph_of_the_flowering_fields in 12.595743516796087% of hands\n"
     ]
    }
   ],
   "source": [
    "two_card = list(filter(lambda x: len(x.cards) == 2, mydeck.combos))\n",
    "cards_in_two_card = set(\n",
    "    [\n",
    "        card for combo in two_card for card in combo.cards\n",
    "    ]\n",
    ")\n",
    "# Find hands where none of the cards from the combo are in it at all\n",
    "total_no_card = sum([\n",
    "    i.count for i in cards_in_two_card\n",
    "])\n",
    "no_cards = hypergeom.cdf(0, mydeck.size, total_no_card, 5)\n",
    "# For each card in 2 card combos, calculate exactly once the probablility of seeing one \n",
    "# card from the combo and not the other.\n",
    "combos_calculated = {}\n",
    "for card in cards_in_two_card:\n",
    "    # Find all combos with this card\n",
    "    combos = list(filter(\n",
    "        lambda x: card in x.cards,\n",
    "        two_card\n",
    "    ))\n",
    "    for combo in combos:\n",
    "        if combo in combos_calculated.keys():\n",
    "            continue\n",
    "        total = sum([\n",
    "            i.count for i in combo.cards\n",
    "        ])\n",
    "        total_card = combo.cards[0].count\n",
    "        total_other_card = combo.cards[1].count\n",
    "        rv = multivariate_hypergeom(m=[total_card, total_other_card, mydeck.size - total_other_card - total_card], n=5)\n",
    "        p_1 = sum([\n",
    "            rv.pmf([x,0,5-x]) for x in range(1,total_card)\n",
    "        ])\n",
    "        p_2 = sum([\n",
    "            rv.pmf([0,x,5-x]) for x in range(1,total_other_card)\n",
    "        ])\n",
    "        p_0 = rv.pmf([0,0,5])\n",
    "        combos_calculated[combo] = 1 - (p_1 + p_2 + p_0)\n",
    "for combo, prob in combos_calculated.items():\n",
    "    print(f\"You'll see {combo} in {prob*100}% of hands\")\n"
   ]
  },
  {
   "cell_type": "markdown",
   "metadata": {},
   "source": [
    "Chance to brick with half of a 2 card combo, and no one card combos:"
   ]
  },
  {
   "cell_type": "code",
   "execution_count": 113,
   "metadata": {},
   "outputs": [
    {
     "name": "stdout",
     "output_type": "stream",
     "text": [
      "Chance to see 0 combo cards: 0.003191450559871613%\n",
      "Chance to see hands with vernusylph_of_the_flourishing_hills, but nothing needed to play: 2.9606023027075654%\n",
      "Chance to see hands with vernusylph_of_the_misting_seedlings, but nothing needed to play: 0.10121457489878553%\n",
      "Chance to see hands with madolche_hootcake, but nothing needed to play: 2.9606023027075654%\n"
     ]
    }
   ],
   "source": [
    "# Find all cards in combos\n",
    "cumulative_probability = 1\n",
    "cards_in_combos = set([\n",
    "    card for combo in mydeck.combos for card in combo.cards\n",
    "])\n",
    "total = sum([\n",
    "    i.count for i in cards_in_combos\n",
    "])\n",
    "chance_to_see_zero = hypergeom.pmf(0, mydeck.size, total, 5)\n",
    "cumulative_probability = cumulative_probability - chance_to_see_zero\n",
    "print(f\"Chance to see 0 combo cards: {chance_to_see_zero*100}%\")\n",
    "# Find 2 card combos that do not include 1 card combos\n",
    "unique_two_card = list(filter(\n",
    "    lambda x: len(one_card_cards.intersection(set(x.cards))) == 0,\n",
    "    mydeck.combos\n",
    "))\n",
    "# Get all unique cards in 2 card combos, calculate the odds of see it, but not the counterpart\n",
    "cards_in_unique_two_card = set([\n",
    "    card for combo in unique_two_card for card in combo.cards\n",
    "])\n",
    "for card in cards_in_unique_two_card:\n",
    "    # Find combos for card\n",
    "    combos = list(filter(\n",
    "        lambda x: card in x.cards,\n",
    "        unique_two_card\n",
    "    ))\n",
    "    if len(combos) == 1:\n",
    "        continue\n",
    "    other_cards = set([\n",
    "        card for combo in combos for card in combo.cards\n",
    "    ]).difference([card])\n",
    "    total_other_card = sum([\n",
    "        i.count for i in other_cards.union(one_card_cards)\n",
    "    ])\n",
    "    rv = multivariate_hypergeom(\n",
    "        m=[card.count, total_other_card, mydeck.size - total_other_card - card.count],\n",
    "        n=5\n",
    "        )\n",
    "    p = sum([\n",
    "        rv.pmf([x,0,5-x]) for x in range(1,card.count+1)\n",
    "    ])\n",
    "    print(f\"Chance to see hands with {card.name}, but nothing needed to play: {p*100}%\")\n",
    "\n",
    "    \n",
    "\n",
    "\n"
   ]
  },
  {
   "cell_type": "markdown",
   "metadata": {},
   "source": [
    "Run a simulation. Input the number of hands to draw in `N`, then see how many have a one-card or two card combo: "
   ]
  },
  {
   "cell_type": "code",
   "execution_count": 114,
   "metadata": {},
   "outputs": [
    {
     "name": "stdout",
     "output_type": "stream",
     "text": [
      "Combo madolche_anjelly in 322 out of 1000\n",
      "Combo madolche_petingcessour in 336 out of 1000\n",
      "Combo noh_punk_ze_amin in 128 out of 1000\n",
      "Combo emergency_teleport in 350 out of 1000\n",
      "Combo madolche_anjelly + madolche_petingcessour in 95 out of 1000\n",
      "Combo madolche_hootcake + vernusylph_of_the_misting_seedlings in 71 out of 1000\n",
      "Combo vernusylph_of_the_misting_seedlings + noh_punk_ze_amin in 41 out of 1000\n",
      "Combo vernusylph_of_the_misting_seedlings + noh_punk_deer_note in 38 out of 1000\n",
      "Combo vernusylph_of_the_misting_seedlings + noh_punk_foxy_tune in 24 out of 1000\n",
      "Combo vernusylph_of_the_misting_seedlings + ash_blossom_and_joyous_spring in 105 out of 1000\n",
      "Combo vernusylph_of_the_misting_seedlings + ghost_ogre_and_snow_rabbit in 87 out of 1000\n",
      "Combo vernusylph_of_the_misting_seedlings + effect_veiler in 95 out of 1000\n",
      "Combo vernusylph_of_the_misting_seedlings + herald_of_orange_light in 81 out of 1000\n",
      "Combo vernusylph_of_the_misting_seedlings + vernusylph_of_the_flourishing_hills in 66 out of 1000\n",
      "Combo vernusylph_of_the_misting_seedlings + vernusylph_of_the_flowering_fields in 33 out of 1000\n",
      "Combo vernusylph_of_the_misting_seedlings + emergency_teleport in 94 out of 1000\n",
      "Combo madolche_hootcake + vernusylph_of_the_flourishing_hills in 59 out of 1000\n",
      "Combo madolche_hootcake + emergency_teleport in 70 out of 1000\n",
      "Combo madolche_messangelato + emergency_teleport in 67 out of 1000\n",
      "Combo noh_punk_ze_amin + vernusylph_of_the_flourishing_hills in 23 out of 1000\n",
      "Combo madolche_petingcessour + vernusylph_of_the_misting_seedlings in 92 out of 1000\n",
      "Combo madolche_petingcessour + emergency_teleport in 104 out of 1000\n",
      "112 hands are bricks:\n",
      "(ghost_ogre_and_snow_rabbit, herald_of_orange_light, madolche_chateau, vernusylph_of_the_flowering_fields, herald_of_orange_light)\n",
      "(effect_veiler, ash_blossom_and_joyous_spring, vernusylph_of_the_flowering_fields, madolche_puddingcess, effect_veiler)\n",
      "(madolche_messangelato, vernusylph_of_the_flourishing_hills, madolche_puddingcess, noh_punk_foxy_tune, madolche_promenade)\n",
      "(madolche_hootcake, herald_of_orange_light, infinte_impermenance, ash_blossom_and_joyous_spring, infinte_impermenance)\n",
      "(madolche_messangelato, infinte_impermenance, herald_of_orange_light, madolche_messangelato, ash_blossom_and_joyous_spring)\n",
      "(ash_blossom_and_joyous_spring, infinte_impermenance, effect_veiler, herald_of_orange_light, madolche_messangelato)\n",
      "(ash_blossom_and_joyous_spring, madolche_messangelato, vernusylph_of_the_flowering_fields, ghost_ogre_and_snow_rabbit, madolche_chateau)\n",
      "(ash_blossom_and_joyous_spring, noh_punk_deer_note, infinte_impermenance, ash_blossom_and_joyous_spring, vernusylph_of_the_flourishing_hills)\n",
      "(infinte_impermenance, vernusylph_of_the_flourishing_hills, madolche_messangelato, ash_blossom_and_joyous_spring, herald_of_orange_light)\n",
      "(madolche_hootcake, herald_of_orange_light, herald_of_orange_light, madolche_salon, madolche_hootcake)\n",
      "(madolche_hootcake, infinte_impermenance, ghost_ogre_and_snow_rabbit, madolche_puddingcess, herald_of_orange_light)\n",
      "(effect_veiler, madolche_chateau, infinte_impermenance, madolche_messangelato, infinte_impermenance)\n",
      "(ash_blossom_and_joyous_spring, infinte_impermenance, madolche_hootcake, madolche_messangelato, ghost_ogre_and_snow_rabbit)\n",
      "(effect_veiler, infinte_impermenance, noh_punk_deer_note, herald_of_orange_light, madolche_messangelato)\n",
      "(ash_blossom_and_joyous_spring, herald_of_orange_light, ash_blossom_and_joyous_spring, madolche_chateau, ghost_ogre_and_snow_rabbit)\n",
      "(effect_veiler, madolche_hootcake, noh_punk_deer_note, madolche_salon, ash_blossom_and_joyous_spring)\n",
      "(madolche_hootcake, noh_punk_foxy_tune, effect_veiler, infinte_impermenance, herald_of_orange_light)\n",
      "(effect_veiler, herald_of_orange_light, ash_blossom_and_joyous_spring, madolche_promenade, madolche_hootcake)\n",
      "(vernusylph_of_the_flowering_fields, infinte_impermenance, madolche_salon, ghost_ogre_and_snow_rabbit, madolche_messangelato)\n",
      "(ash_blossom_and_joyous_spring, madolche_hootcake, madolche_messangelato, infinte_impermenance, ash_blossom_and_joyous_spring)\n",
      "(herald_of_orange_light, effect_veiler, vernusylph_of_the_flowering_fields, madolche_chateau, effect_veiler)\n",
      "(infinte_impermenance, infinte_impermenance, ash_blossom_and_joyous_spring, herald_of_orange_light, herald_of_orange_light)\n",
      "(ash_blossom_and_joyous_spring, ash_blossom_and_joyous_spring, vernusylph_of_the_flowering_fields, madolche_messangelato, madolche_salon)\n",
      "(ghost_ogre_and_snow_rabbit, madolche_promenade, ash_blossom_and_joyous_spring, infinte_impermenance, herald_of_orange_light)\n",
      "(effect_veiler, madolche_salon, ash_blossom_and_joyous_spring, madolche_chateau, madolche_promenade)\n",
      "(madolche_salon, infinte_impermenance, madolche_puddingcess, madolche_messangelato, vernusylph_of_the_flowering_fields)\n",
      "(madolche_chateau, infinte_impermenance, madolche_promenade, herald_of_orange_light, effect_veiler)\n",
      "(madolche_promenade, noh_punk_foxy_tune, vernusylph_of_the_flourishing_hills, madolche_messangelato, effect_veiler)\n",
      "(noh_punk_deer_note, madolche_messangelato, madolche_salon, madolche_hootcake, infinte_impermenance)\n",
      "(vernusylph_of_the_flourishing_hills, herald_of_orange_light, madolche_salon, ghost_ogre_and_snow_rabbit, madolche_puddingcess)\n",
      "(infinte_impermenance, vernusylph_of_the_flourishing_hills, ash_blossom_and_joyous_spring, effect_veiler, madolche_messangelato)\n",
      "(herald_of_orange_light, noh_punk_foxy_tune, madolche_promenade, vernusylph_of_the_flourishing_hills, ghost_ogre_and_snow_rabbit)\n",
      "(infinte_impermenance, effect_veiler, ash_blossom_and_joyous_spring, madolche_puddingcess, madolche_chateau)\n",
      "(madolche_promenade, madolche_chateau, madolche_hootcake, herald_of_orange_light, ash_blossom_and_joyous_spring)\n",
      "(madolche_messangelato, infinte_impermenance, effect_veiler, ghost_ogre_and_snow_rabbit, vernusylph_of_the_flowering_fields)\n",
      "(noh_punk_deer_note, madolche_messangelato, madolche_promenade, vernusylph_of_the_flowering_fields, infinte_impermenance)\n",
      "(ghost_ogre_and_snow_rabbit, madolche_salon, noh_punk_deer_note, vernusylph_of_the_flourishing_hills, madolche_chateau)\n",
      "(ash_blossom_and_joyous_spring, vernusylph_of_the_flowering_fields, madolche_messangelato, effect_veiler, madolche_chateau)\n",
      "(noh_punk_deer_note, ash_blossom_and_joyous_spring, ash_blossom_and_joyous_spring, effect_veiler, madolche_puddingcess)\n",
      "(infinte_impermenance, infinte_impermenance, ash_blossom_and_joyous_spring, vernusylph_of_the_flourishing_hills, ghost_ogre_and_snow_rabbit)\n",
      "(madolche_puddingcess, vernusylph_of_the_flourishing_hills, herald_of_orange_light, madolche_chateau, ash_blossom_and_joyous_spring)\n",
      "(vernusylph_of_the_flourishing_hills, madolche_promenade, herald_of_orange_light, infinte_impermenance, vernusylph_of_the_flourishing_hills)\n",
      "(noh_punk_deer_note, effect_veiler, ash_blossom_and_joyous_spring, infinte_impermenance, effect_veiler)\n",
      "(madolche_puddingcess, ash_blossom_and_joyous_spring, noh_punk_deer_note, vernusylph_of_the_flourishing_hills, vernusylph_of_the_flowering_fields)\n",
      "(herald_of_orange_light, infinte_impermenance, vernusylph_of_the_flourishing_hills, vernusylph_of_the_flowering_fields, ghost_ogre_and_snow_rabbit)\n",
      "(ash_blossom_and_joyous_spring, madolche_hootcake, madolche_puddingcess, infinte_impermenance, herald_of_orange_light)\n",
      "(noh_punk_deer_note, noh_punk_foxy_tune, herald_of_orange_light, ash_blossom_and_joyous_spring, infinte_impermenance)\n",
      "(madolche_messangelato, vernusylph_of_the_flowering_fields, effect_veiler, madolche_promenade, madolche_messangelato)\n",
      "(effect_veiler, ash_blossom_and_joyous_spring, herald_of_orange_light, ghost_ogre_and_snow_rabbit, infinte_impermenance)\n",
      "(effect_veiler, madolche_hootcake, madolche_chateau, infinte_impermenance, madolche_hootcake)\n",
      "(madolche_chateau, ash_blossom_and_joyous_spring, ghost_ogre_and_snow_rabbit, madolche_hootcake, herald_of_orange_light)\n",
      "(noh_punk_foxy_tune, infinte_impermenance, vernusylph_of_the_flourishing_hills, madolche_puddingcess, vernusylph_of_the_flowering_fields)\n",
      "(vernusylph_of_the_flowering_fields, madolche_puddingcess, madolche_messangelato, infinte_impermenance, madolche_chateau)\n",
      "(ghost_ogre_and_snow_rabbit, ash_blossom_and_joyous_spring, noh_punk_foxy_tune, vernusylph_of_the_flourishing_hills, ash_blossom_and_joyous_spring)\n",
      "(herald_of_orange_light, ash_blossom_and_joyous_spring, ash_blossom_and_joyous_spring, madolche_puddingcess, vernusylph_of_the_flourishing_hills)\n",
      "(madolche_messangelato, effect_veiler, effect_veiler, herald_of_orange_light, ash_blossom_and_joyous_spring)\n",
      "(ash_blossom_and_joyous_spring, herald_of_orange_light, madolche_messangelato, madolche_puddingcess, herald_of_orange_light)\n",
      "(ash_blossom_and_joyous_spring, ghost_ogre_and_snow_rabbit, effect_veiler, madolche_hootcake, madolche_chateau)\n",
      "(madolche_messangelato, madolche_hootcake, madolche_chateau, madolche_hootcake, effect_veiler)\n",
      "(madolche_salon, madolche_messangelato, ghost_ogre_and_snow_rabbit, effect_veiler, vernusylph_of_the_flowering_fields)\n",
      "(effect_veiler, madolche_salon, ash_blossom_and_joyous_spring, madolche_messangelato, herald_of_orange_light)\n",
      "(infinte_impermenance, vernusylph_of_the_flowering_fields, madolche_messangelato, infinte_impermenance, madolche_hootcake)\n",
      "(effect_veiler, noh_punk_deer_note, vernusylph_of_the_flowering_fields, herald_of_orange_light, ghost_ogre_and_snow_rabbit)\n",
      "(herald_of_orange_light, infinte_impermenance, vernusylph_of_the_flourishing_hills, effect_veiler, madolche_messangelato)\n",
      "(herald_of_orange_light, ash_blossom_and_joyous_spring, herald_of_orange_light, madolche_promenade, madolche_puddingcess)\n",
      "(madolche_promenade, madolche_hootcake, noh_punk_foxy_tune, infinte_impermenance, herald_of_orange_light)\n",
      "(infinte_impermenance, ash_blossom_and_joyous_spring, madolche_messangelato, ghost_ogre_and_snow_rabbit, infinte_impermenance)\n",
      "(infinte_impermenance, herald_of_orange_light, effect_veiler, ghost_ogre_and_snow_rabbit, vernusylph_of_the_flourishing_hills)\n",
      "(noh_punk_foxy_tune, noh_punk_deer_note, effect_veiler, madolche_promenade, madolche_hootcake)\n",
      "(ash_blossom_and_joyous_spring, vernusylph_of_the_flowering_fields, infinte_impermenance, ghost_ogre_and_snow_rabbit, madolche_puddingcess)\n",
      "(effect_veiler, effect_veiler, herald_of_orange_light, ghost_ogre_and_snow_rabbit, effect_veiler)\n",
      "(infinte_impermenance, madolche_promenade, noh_punk_foxy_tune, madolche_hootcake, ash_blossom_and_joyous_spring)\n",
      "(noh_punk_deer_note, herald_of_orange_light, ghost_ogre_and_snow_rabbit, herald_of_orange_light, effect_veiler)\n",
      "(vernusylph_of_the_flourishing_hills, effect_veiler, effect_veiler, madolche_chateau, herald_of_orange_light)\n",
      "(infinte_impermenance, ash_blossom_and_joyous_spring, madolche_salon, herald_of_orange_light, ghost_ogre_and_snow_rabbit)\n",
      "(effect_veiler, herald_of_orange_light, ash_blossom_and_joyous_spring, ghost_ogre_and_snow_rabbit, madolche_hootcake)\n",
      "(ghost_ogre_and_snow_rabbit, madolche_messangelato, madolche_puddingcess, vernusylph_of_the_flowering_fields, herald_of_orange_light)\n",
      "(madolche_promenade, madolche_messangelato, infinte_impermenance, madolche_salon, vernusylph_of_the_flourishing_hills)\n",
      "(madolche_messangelato, infinte_impermenance, madolche_puddingcess, madolche_hootcake, noh_punk_foxy_tune)\n",
      "(madolche_messangelato, effect_veiler, herald_of_orange_light, noh_punk_foxy_tune, ghost_ogre_and_snow_rabbit)\n",
      "(effect_veiler, vernusylph_of_the_flourishing_hills, herald_of_orange_light, madolche_messangelato, madolche_promenade)\n",
      "(infinte_impermenance, vernusylph_of_the_flourishing_hills, ghost_ogre_and_snow_rabbit, madolche_puddingcess, noh_punk_deer_note)\n",
      "(vernusylph_of_the_flowering_fields, effect_veiler, herald_of_orange_light, vernusylph_of_the_flourishing_hills, effect_veiler)\n",
      "(ash_blossom_and_joyous_spring, infinte_impermenance, herald_of_orange_light, madolche_chateau, effect_veiler)\n",
      "(vernusylph_of_the_flowering_fields, madolche_chateau, effect_veiler, madolche_hootcake, ash_blossom_and_joyous_spring)\n",
      "(madolche_chateau, herald_of_orange_light, madolche_hootcake, ash_blossom_and_joyous_spring, effect_veiler)\n",
      "(ghost_ogre_and_snow_rabbit, noh_punk_foxy_tune, noh_punk_deer_note, ghost_ogre_and_snow_rabbit, ash_blossom_and_joyous_spring)\n",
      "(infinte_impermenance, vernusylph_of_the_flourishing_hills, ash_blossom_and_joyous_spring, effect_veiler, madolche_puddingcess)\n",
      "(madolche_hootcake, herald_of_orange_light, effect_veiler, madolche_promenade, ghost_ogre_and_snow_rabbit)\n",
      "(madolche_messangelato, madolche_messangelato, madolche_promenade, vernusylph_of_the_flourishing_hills, ash_blossom_and_joyous_spring)\n",
      "(madolche_chateau, effect_veiler, madolche_hootcake, vernusylph_of_the_flowering_fields, madolche_messangelato)\n",
      "(madolche_promenade, herald_of_orange_light, ghost_ogre_and_snow_rabbit, madolche_messangelato, madolche_messangelato)\n",
      "(madolche_promenade, madolche_puddingcess, madolche_chateau, herald_of_orange_light, ash_blossom_and_joyous_spring)\n",
      "(vernusylph_of_the_flourishing_hills, noh_punk_deer_note, madolche_promenade, effect_veiler, infinte_impermenance)\n",
      "(infinte_impermenance, noh_punk_foxy_tune, infinte_impermenance, herald_of_orange_light, madolche_hootcake)\n",
      "(madolche_hootcake, ash_blossom_and_joyous_spring, ghost_ogre_and_snow_rabbit, madolche_chateau, noh_punk_foxy_tune)\n",
      "(vernusylph_of_the_flowering_fields, madolche_hootcake, madolche_messangelato, infinte_impermenance, ash_blossom_and_joyous_spring)\n",
      "(madolche_hootcake, ghost_ogre_and_snow_rabbit, madolche_messangelato, noh_punk_foxy_tune, madolche_salon)\n",
      "(madolche_hootcake, madolche_hootcake, ghost_ogre_and_snow_rabbit, herald_of_orange_light, ash_blossom_and_joyous_spring)\n",
      "(vernusylph_of_the_flowering_fields, vernusylph_of_the_flourishing_hills, effect_veiler, herald_of_orange_light, madolche_messangelato)\n",
      "(madolche_hootcake, madolche_messangelato, herald_of_orange_light, effect_veiler, ash_blossom_and_joyous_spring)\n",
      "(ghost_ogre_and_snow_rabbit, madolche_salon, ash_blossom_and_joyous_spring, vernusylph_of_the_flowering_fields, madolche_puddingcess)\n",
      "(effect_veiler, noh_punk_deer_note, effect_veiler, noh_punk_foxy_tune, vernusylph_of_the_flourishing_hills)\n",
      "(infinte_impermenance, ghost_ogre_and_snow_rabbit, madolche_messangelato, infinte_impermenance, madolche_hootcake)\n",
      "(infinte_impermenance, madolche_puddingcess, madolche_promenade, effect_veiler, effect_veiler)\n",
      "(effect_veiler, madolche_hootcake, effect_veiler, vernusylph_of_the_flowering_fields, madolche_hootcake)\n",
      "(ghost_ogre_and_snow_rabbit, infinte_impermenance, ash_blossom_and_joyous_spring, noh_punk_deer_note, herald_of_orange_light)\n",
      "(noh_punk_deer_note, vernusylph_of_the_flowering_fields, ash_blossom_and_joyous_spring, vernusylph_of_the_flourishing_hills, effect_veiler)\n",
      "(vernusylph_of_the_flourishing_hills, infinte_impermenance, madolche_promenade, infinte_impermenance, madolche_messangelato)\n",
      "(madolche_salon, noh_punk_deer_note, madolche_messangelato, madolche_chateau, noh_punk_foxy_tune)\n",
      "(noh_punk_foxy_tune, madolche_salon, infinte_impermenance, ghost_ogre_and_snow_rabbit, herald_of_orange_light)\n",
      "(madolche_salon, herald_of_orange_light, vernusylph_of_the_flowering_fields, madolche_messangelato, infinte_impermenance)\n"
     ]
    }
   ],
   "source": [
    "N = 1000\n",
    "hands = [\n",
    "    tuple(random.sample(mydeck.get_simulated_cards(), 5))\n",
    "    for _ in range(0,N)\n",
    "]\n",
    "hands_with_combo = set()\n",
    "for combo in mydeck.combos:\n",
    "    in_hands = []\n",
    "    cards: set = set(combo.cards)\n",
    "    for hand in hands:\n",
    "        if cards.issubset(hand):\n",
    "            in_hands.append(hand)\n",
    "            hands_with_combo.add(hand)\n",
    "    print(f\"Combo {combo} in {len(in_hands)} out of {len(hands)}\")\n",
    "bricks = set(hands).difference(hands_with_combo)\n",
    "print(f\"{len(bricks)} hands are bricks:\")\n",
    "for brick in bricks:\n",
    "    print(brick)"
   ]
  }
 ],
 "metadata": {
  "kernelspec": {
   "display_name": "notebook",
   "language": "python",
   "name": "python3"
  },
  "language_info": {
   "codemirror_mode": {
    "name": "ipython",
    "version": 3
   },
   "file_extension": ".py",
   "mimetype": "text/x-python",
   "name": "python",
   "nbconvert_exporter": "python",
   "pygments_lexer": "ipython3",
   "version": "3.12.4"
  }
 },
 "nbformat": 4,
 "nbformat_minor": 2
}
