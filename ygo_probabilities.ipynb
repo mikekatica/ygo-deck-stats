{
 "cells": [
  {
   "cell_type": "code",
   "execution_count": null,
   "metadata": {},
   "outputs": [],
   "source": [
    "import random\n",
    "from models import deck\n",
    "from scipy.stats import multivariate_hypergeom, hypergeom, nhypergeom\n",
    "from matplotlib import pyplot"
   ]
  },
  {
   "cell_type": "markdown",
   "metadata": {},
   "source": [
    "Specify the filesystem path in `filepath` variable, then load the deck into memory"
   ]
  },
  {
   "cell_type": "code",
   "execution_count": null,
   "metadata": {},
   "outputs": [],
   "source": [
    "filepath = \"./deck/madolche.txt\"\n",
    "mydeck = deck.Deck.from_file(filepath)"
   ]
  },
  {
   "cell_type": "markdown",
   "metadata": {},
   "source": [
    "Validate the total cards of each type:"
   ]
  },
  {
   "cell_type": "code",
   "execution_count": null,
   "metadata": {},
   "outputs": [],
   "source": [
    "def total_count(cards):\n",
    "    return sum([i.count for i in cards])\n",
    "\n",
    "\n",
    "bricks = mydeck.cards_by_deck_type(deck.DeckCardType.BRICK)\n",
    "non_engine = mydeck.cards_by_deck_type(deck.DeckCardType.NONENGINE)\n",
    "engine = mydeck.cards_by_deck_type(deck.DeckCardType.ENGINE)\n",
    "\n",
    "print(\n",
    "    f\"Your deck has {total_count(bricks)} bricks, {total_count(non_engine)} non-engine, and {total_count(engine)} engine out of {mydeck.size} cards\"\n",
    ")"
   ]
  },
  {
   "cell_type": "markdown",
   "metadata": {},
   "source": [
    "Chance to see any 1 card combo:"
   ]
  },
  {
   "cell_type": "code",
   "execution_count": null,
   "metadata": {},
   "outputs": [],
   "source": [
    "one_card = list(filter(lambda x: len(x.cards) == 1, mydeck.combos))\n",
    "one_card_cards = set([card for combo in one_card for card in combo.cards])\n",
    "total_one_card = sum([i.count for combo in one_card for i in combo.cards])\n",
    "one_card_pv = nhypergeom.pmf(0, mydeck.size, total_one_card, 5)\n",
    "print(f\"All 1 card combos: {one_card_cards}\")\n",
    "print(f\"You'll see a 1 card combo in {(1-one_card_pv)*100}% of hands\")"
   ]
  },
  {
   "cell_type": "markdown",
   "metadata": {},
   "source": [
    "Chance to see any 2 card combo:\n",
    "1. Find all discrete cards in all the combos\n",
    "2. Calculate the probability that the hand has 0 of the cards in the combo\n",
    "3. For each combo, calculate that only one of the cards is present in the hand"
   ]
  },
  {
   "cell_type": "code",
   "execution_count": null,
   "metadata": {},
   "outputs": [],
   "source": [
    "two_card = list(filter(lambda x: len(x.cards) == 2, mydeck.combos))\n",
    "cards_in_two_card = set([card for combo in two_card for card in combo.cards])\n",
    "# Find hands where none of the cards from the combo are in it at all\n",
    "total_no_card = sum([i.count for i in cards_in_two_card])\n",
    "no_cards = hypergeom.cdf(0, mydeck.size, total_no_card, 5)\n",
    "# For each card in 2 card combos, calculate exactly once the probablility of seeing one\n",
    "# card from the combo and not the other.\n",
    "combos_calculated = {}\n",
    "for card in cards_in_two_card:\n",
    "    # Find all combos with this card\n",
    "    combos = list(filter(lambda x: card in x.cards, two_card))\n",
    "    for combo in combos:\n",
    "        if combo in combos_calculated.keys():\n",
    "            continue\n",
    "        total = sum([i.count for i in combo.cards])\n",
    "        total_card = combo.cards[0].count\n",
    "        total_other_card = combo.cards[1].count\n",
    "        rv = multivariate_hypergeom(\n",
    "            m=[\n",
    "                total_card,\n",
    "                total_other_card,\n",
    "                mydeck.size - total_other_card - total_card,\n",
    "            ],\n",
    "            n=5,\n",
    "        )\n",
    "        p_1 = sum([rv.pmf([x, 0, 5 - x]) for x in range(1, total_card)])\n",
    "        p_2 = sum([rv.pmf([0, x, 5 - x]) for x in range(1, total_other_card)])\n",
    "        p_0 = rv.pmf([0, 0, 5])\n",
    "        combos_calculated[combo] = 1 - (p_1 + p_2 + p_0)\n",
    "for combo, prob in combos_calculated.items():\n",
    "    print(f\"You'll see {combo} in {prob*100}% of hands\")"
   ]
  },
  {
   "cell_type": "markdown",
   "metadata": {},
   "source": [
    "Chance to brick with half of a 2 card combo, and no one card combos:"
   ]
  },
  {
   "cell_type": "code",
   "execution_count": null,
   "metadata": {},
   "outputs": [],
   "source": [
    "# Find all cards in combos\n",
    "cumulative_probability = 1\n",
    "cards_in_combos = set([card for combo in mydeck.combos for card in combo.cards])\n",
    "total = sum([i.count for i in cards_in_combos])\n",
    "chance_to_see_zero = hypergeom.pmf(0, mydeck.size, total, 5)\n",
    "cumulative_probability = cumulative_probability - chance_to_see_zero\n",
    "print(f\"Chance to see 0 combo cards: {chance_to_see_zero*100}%\")\n",
    "# Find 2 card combos that do not include 1 card combos\n",
    "unique_two_card = list(\n",
    "    filter(lambda x: len(one_card_cards.intersection(set(x.cards))) == 0, mydeck.combos)\n",
    ")\n",
    "# Get all unique cards in 2 card combos, calculate the odds of see it, but not the counterpart\n",
    "cards_in_unique_two_card = set(\n",
    "    [card for combo in unique_two_card for card in combo.cards]\n",
    ")\n",
    "for card in cards_in_unique_two_card:\n",
    "    # Find combos for card\n",
    "    combos = list(filter(lambda x: card in x.cards, unique_two_card))\n",
    "    if len(combos) == 1:\n",
    "        continue\n",
    "    other_cards = set([card for combo in combos for card in combo.cards]).difference(\n",
    "        [card]\n",
    "    )\n",
    "    total_other_card = sum([i.count for i in other_cards.union(one_card_cards)])\n",
    "    rv = multivariate_hypergeom(\n",
    "        m=[card.count, total_other_card, mydeck.size - total_other_card - card.count],\n",
    "        n=5,\n",
    "    )\n",
    "    p = sum([rv.pmf([x, 0, 5 - x]) for x in range(1, card.count + 1)])\n",
    "    print(f\"Chance to see hands with {card.name}, but nothing needed to play: {p*100}%\")"
   ]
  },
  {
   "cell_type": "markdown",
   "metadata": {},
   "source": [
    "Run a simulation. Input the number of hands to draw in `N`, then see how many have a one-card or two card combo: "
   ]
  },
  {
   "cell_type": "code",
   "execution_count": null,
   "metadata": {
    "nbreg": {
     "diff_ignore": [
      "/outputs/*"
     ]
    }
   },
   "outputs": [],
   "source": [
    "N = 100\n",
    "hands = [tuple(random.sample(mydeck.get_simulated_cards(), 5)) for _ in range(0, N)]\n",
    "hands_with_combo = set()\n",
    "for combo in mydeck.combos:\n",
    "    in_hands = []\n",
    "    cards: set = set(combo.cards)\n",
    "    for hand in hands:\n",
    "        if cards.issubset(hand):\n",
    "            in_hands.append(hand)\n",
    "            hands_with_combo.add(hand)\n",
    "    print(f\"Combo {combo} in {len(in_hands)} out of {len(hands)}\")\n",
    "bricks = set(hands).difference(hands_with_combo)"
   ]
  },
  {
   "cell_type": "code",
   "execution_count": null,
   "metadata": {
    "nbreg": {
     "diff_ignore": [
      "/outputs/*"
     ]
    }
   },
   "outputs": [],
   "source": [
    "print(f\"{len(bricks)} hands are bricks:\")"
   ]
  },
  {
   "cell_type": "code",
   "execution_count": null,
   "metadata": {
    "nbreg": {
     "diff_ignore": [
      "/outputs/*"
     ]
    }
   },
   "outputs": [],
   "source": [
    "for brick in bricks:\n",
    "    print(brick)"
   ]
  },
  {
   "cell_type": "markdown",
   "metadata": {},
   "source": [
    "Hands that had any number of distinct non-engine:"
   ]
  },
  {
   "cell_type": "code",
   "execution_count": null,
   "metadata": {
    "nbreg": {
     "diff_ignore": [
      "/outputs/*"
     ]
    }
   },
   "outputs": [],
   "source": [
    "x = [0, 1, 2, 3, 4, 5]\n",
    "y = [0, 0, 0, 0, 0, 0]\n",
    "for hand in hands:\n",
    "    unique_cards = set(hand)\n",
    "    ne = list(\n",
    "        filter(lambda x: x.deck_type == deck.DeckCardType.NONENGINE, unique_cards)\n",
    "    )\n",
    "    idx = len(ne)\n",
    "    y[idx] += 1\n",
    "pyplot.plot(x, y)"
   ]
  }
 ],
 "metadata": {
  "kernelspec": {
   "display_name": "notebook",
   "language": "python",
   "name": "python3"
  },
  "language_info": {
   "codemirror_mode": {
    "name": "ipython",
    "version": 3
   },
   "file_extension": ".py",
   "mimetype": "text/x-python",
   "name": "python",
   "nbconvert_exporter": "python",
   "pygments_lexer": "ipython3",
   "version": "3.12.4"
  }
 },
 "nbformat": 4,
 "nbformat_minor": 2
}
